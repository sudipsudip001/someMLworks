{
 "cells": [
  {
   "cell_type": "markdown",
   "id": "4f6aa8ae-1e80-45ac-badb-ab9c47c85175",
   "metadata": {},
   "source": [
    "Implemented perceptron learning algorithm to 'mimic' the AND gate."
   ]
  },
  {
   "cell_type": "code",
   "execution_count": 1,
   "id": "de5c0a12-020e-47a0-a61b-54f59e84e9ff",
   "metadata": {},
   "outputs": [
    {
     "name": "stdin",
     "output_type": "stream",
     "text": [
      "Enter the value for x and y: 0 0\n"
     ]
    },
    {
     "name": "stdout",
     "output_type": "stream",
     "text": [
      "The AND gate result of 0 and 0 is 0.\n"
     ]
    }
   ],
   "source": [
    "import numpy as np\n",
    "\n",
    "x = np.array([[0, 0],\n",
    "              [0, 1],\n",
    "              [1, 0],\n",
    "              [1, 1]])\n",
    "y = np.array([0, 0, 0, 1])\n",
    "\n",
    "def relu(z):\n",
    "    return np.maximum(0, z)\n",
    "\n",
    "def perceptron_learning(x, y, iteration, rate):\n",
    "    weights = np.random.rand(x.shape[1])*0.05\n",
    "    bias = np.random.rand(1)*0.05\n",
    "    for i in range(iteration):\n",
    "        for j in range(x.shape[0]):\n",
    "            z = np.dot(x[j], weights) + bias\n",
    "            a = relu(z)\n",
    "            err = y[j] - a\n",
    "            weights += ((rate*err)*x[j])\n",
    "    return weights, bias\n",
    "\n",
    "def neuron(arr):\n",
    "    z = np.dot(arr, weights) + bias\n",
    "    a = relu(z)\n",
    "    return a\n",
    "\n",
    "weights, bias = perceptron_learning(x, y, 10, 0.1)\n",
    "a, b = input('Enter the value for x and y:').split()\n",
    "arr = np.array([int(a), int(b)])\n",
    "value = neuron(arr)\n",
    "print(\"The AND gate result of {} and {} is {}.\".format(a, b, int(np.round(value))))"
   ]
  }
 ],
 "metadata": {
  "kernelspec": {
   "display_name": "Python 3 (ipykernel)",
   "language": "python",
   "name": "python3"
  },
  "language_info": {
   "codemirror_mode": {
    "name": "ipython",
    "version": 3
   },
   "file_extension": ".py",
   "mimetype": "text/x-python",
   "name": "python",
   "nbconvert_exporter": "python",
   "pygments_lexer": "ipython3",
   "version": "3.8.19"
  }
 },
 "nbformat": 4,
 "nbformat_minor": 5
}
