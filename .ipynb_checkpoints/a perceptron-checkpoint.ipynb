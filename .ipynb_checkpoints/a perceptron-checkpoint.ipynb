{
 "cells": [
  {
   "cell_type": "markdown",
   "id": "0a2febd6-af1e-40a2-b424-c8ce1c42c783",
   "metadata": {},
   "source": [
    "This is a threshold perceptron and actually a Neural Network. (Source: trust me bro!)"
   ]
  },
  {
   "cell_type": "code",
   "execution_count": 1,
   "id": "9c68c585-1cda-499e-839a-5acc9ea3de49",
   "metadata": {},
   "outputs": [],
   "source": [
    "def neuron(first, second, third, bias):\n",
    "    z = w1*first + w2*second + w3*third\n",
    "    return (z > bias)"
   ]
  },
  {
   "cell_type": "code",
   "execution_count": 2,
   "id": "f9cd4dc7-ef14-4098-9d63-c7f2d6ce06df",
   "metadata": {},
   "outputs": [],
   "source": [
    "def validate_num():\n",
    "    while True:\n",
    "        try:\n",
    "            value = int(input())\n",
    "            if 0 <= value <= 10:\n",
    "                return value\n",
    "            else:\n",
    "                print(\"Please input in the scale of 0-10!\")\n",
    "        except ValueError:\n",
    "            print(\"Invalid input. Please enter an integer.\")\n",
    "\n",
    "def opinion():\n",
    "    print(\"Please rate in the scale of 0-10: (0-> least important 10-> very important)\")\n",
    "    print(\"How important is it for Ram to have his favourite movie star in the movie to watch it?\")\n",
    "    fav_movie_star = validate_num()\n",
    "    print(\"How important is it for Ram to have his friends with him to watch the movie?\")\n",
    "    friend = validate_num()\n",
    "    print(\"How likely is Ram to watch movies if it's not a holiday?\")\n",
    "    holiday = validate_num()\n",
    "    print(\"On the scale of 0-10 what's his mood like, right now? (0 -> very good, 10 -> very bad)\")\n",
    "    bias = validate_num()\n",
    "    return fav_movie_star, friend, holiday, bias"
   ]
  },
  {
   "cell_type": "code",
   "execution_count": 3,
   "id": "93f51f2a-66d0-41c3-8496-c25289f74e95",
   "metadata": {},
   "outputs": [
    {
     "name": "stdout",
     "output_type": "stream",
     "text": [
      "Please rate in the scale of 0-10: (0-> least important 10-> very important)\n",
      "How important is it for Ram to have his favourite movie star in the movie to watch it?\n"
     ]
    },
    {
     "name": "stdin",
     "output_type": "stream",
     "text": [
      " 6\n"
     ]
    },
    {
     "name": "stdout",
     "output_type": "stream",
     "text": [
      "How important is it for Ram to have his friends with him to watch the movie?\n"
     ]
    },
    {
     "name": "stdin",
     "output_type": "stream",
     "text": [
      " 5\n"
     ]
    },
    {
     "name": "stdout",
     "output_type": "stream",
     "text": [
      "How likely is Ram to watch movies if it's not a holiday?\n"
     ]
    },
    {
     "name": "stdin",
     "output_type": "stream",
     "text": [
      " 2\n"
     ]
    },
    {
     "name": "stdout",
     "output_type": "stream",
     "text": [
      "On the scale of 0-10 what's his mood like, right now? (0 -> very good, 10 -> very bad)\n"
     ]
    },
    {
     "name": "stdin",
     "output_type": "stream",
     "text": [
      " 3\n"
     ]
    },
    {
     "name": "stdout",
     "output_type": "stream",
     "text": [
      "Answer in 0 or 1: (0 meaning No, 1 meaning Yes)\n",
      "Does the movie have Ram's favourite movie star?\n"
     ]
    },
    {
     "name": "stdin",
     "output_type": "stream",
     "text": [
      " 1\n"
     ]
    },
    {
     "name": "stdout",
     "output_type": "stream",
     "text": [
      "Are Ram's friend/s coming with him?\n"
     ]
    },
    {
     "name": "stdin",
     "output_type": "stream",
     "text": [
      " 1\n"
     ]
    },
    {
     "name": "stdout",
     "output_type": "stream",
     "text": [
      "Is it a holiday?\n"
     ]
    },
    {
     "name": "stdin",
     "output_type": "stream",
     "text": [
      " 0\n"
     ]
    },
    {
     "name": "stdout",
     "output_type": "stream",
     "text": [
      "Ram will be going to the movies.\n"
     ]
    }
   ],
   "source": [
    "def validate_bool():\n",
    "    while True:\n",
    "        try:\n",
    "            value = int(input())\n",
    "            if(value == 1 or value == 0):\n",
    "                return value\n",
    "            else:\n",
    "                print(\"Please enter 0 or 1: (1 -> Yes, 0 -> No\")\n",
    "        except ValueError:\n",
    "            print(\"Invalid Input! Enter an integer\")\n",
    "\n",
    "def state():\n",
    "    print(\"Answer in 0 or 1: (0 meaning No, 1 meaning Yes)\")\n",
    "    print(\"Does the movie have Ram's favourite movie star?\")\n",
    "    w1 = validate_bool()\n",
    "    print(\"Are Ram's friend/s coming with him?\")\n",
    "    w2 = validate_bool()\n",
    "    print(\"Is it a holiday?\")\n",
    "    w3 = validate_bool()\n",
    "    return w1, w2, w3\n",
    "\n",
    "fav_movie_star, friend, holiday, bias = opinion()\n",
    "w1, w2, w3 = state()\n",
    "value = neuron(fav_movie_star, friend, holiday, bias)\n",
    "if(value == 0):\n",
    "    print(\"Ram won't be going to the movies.\")\n",
    "else:\n",
    "    print(\"Ram will be going to the movies.\")"
   ]
  },
  {
   "cell_type": "code",
   "execution_count": null,
   "id": "fcb329ee-ab61-410f-8736-7a59b5bbd71c",
   "metadata": {},
   "outputs": [],
   "source": []
  }
 ],
 "metadata": {
  "kernelspec": {
   "display_name": "Python 3 (ipykernel)",
   "language": "python",
   "name": "python3"
  },
  "language_info": {
   "codemirror_mode": {
    "name": "ipython",
    "version": 3
   },
   "file_extension": ".py",
   "mimetype": "text/x-python",
   "name": "python",
   "nbconvert_exporter": "python",
   "pygments_lexer": "ipython3",
   "version": "3.8.19"
  }
 },
 "nbformat": 4,
 "nbformat_minor": 5
}
