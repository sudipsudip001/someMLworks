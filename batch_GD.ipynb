{
 "cells": [
  {
   "cell_type": "markdown",
   "id": "e8db5a25-deb1-41c6-b7dc-845a424cd99f",
   "metadata": {},
   "source": [
    "Implementation of Batch Gradient Descent."
   ]
  },
  {
   "cell_type": "code",
   "execution_count": 1,
   "id": "2a0b6a38-b3f5-42d6-baf0-76a8a295f623",
   "metadata": {},
   "outputs": [],
   "source": [
    "import numpy as np\n",
    "import pandas as pd"
   ]
  },
  {
   "cell_type": "code",
   "execution_count": 2,
   "id": "5c3534e9-57ef-4a14-b6da-7078b91ffba7",
   "metadata": {},
   "outputs": [],
   "source": [
    "data = pd.read_csv('diabetes.csv')"
   ]
  },
  {
   "cell_type": "code",
   "execution_count": 3,
   "id": "c7f15655-4c94-4dbb-aa0f-5ebd358dd654",
   "metadata": {},
   "outputs": [
    {
     "data": {
      "text/html": [
       "<div>\n",
       "<style scoped>\n",
       "    .dataframe tbody tr th:only-of-type {\n",
       "        vertical-align: middle;\n",
       "    }\n",
       "\n",
       "    .dataframe tbody tr th {\n",
       "        vertical-align: top;\n",
       "    }\n",
       "\n",
       "    .dataframe thead th {\n",
       "        text-align: right;\n",
       "    }\n",
       "</style>\n",
       "<table border=\"1\" class=\"dataframe\">\n",
       "  <thead>\n",
       "    <tr style=\"text-align: right;\">\n",
       "      <th></th>\n",
       "      <th>Pregnancies</th>\n",
       "      <th>Glucose</th>\n",
       "      <th>BloodPressure</th>\n",
       "      <th>SkinThickness</th>\n",
       "      <th>Insulin</th>\n",
       "      <th>BMI</th>\n",
       "      <th>DiabetesPedigreeFunction</th>\n",
       "      <th>Age</th>\n",
       "      <th>Outcome</th>\n",
       "    </tr>\n",
       "  </thead>\n",
       "  <tbody>\n",
       "    <tr>\n",
       "      <th>0</th>\n",
       "      <td>6</td>\n",
       "      <td>148</td>\n",
       "      <td>72</td>\n",
       "      <td>35</td>\n",
       "      <td>0</td>\n",
       "      <td>33.6</td>\n",
       "      <td>0.627</td>\n",
       "      <td>50</td>\n",
       "      <td>1</td>\n",
       "    </tr>\n",
       "    <tr>\n",
       "      <th>1</th>\n",
       "      <td>1</td>\n",
       "      <td>85</td>\n",
       "      <td>66</td>\n",
       "      <td>29</td>\n",
       "      <td>0</td>\n",
       "      <td>26.6</td>\n",
       "      <td>0.351</td>\n",
       "      <td>31</td>\n",
       "      <td>0</td>\n",
       "    </tr>\n",
       "    <tr>\n",
       "      <th>2</th>\n",
       "      <td>8</td>\n",
       "      <td>183</td>\n",
       "      <td>64</td>\n",
       "      <td>0</td>\n",
       "      <td>0</td>\n",
       "      <td>23.3</td>\n",
       "      <td>0.672</td>\n",
       "      <td>32</td>\n",
       "      <td>1</td>\n",
       "    </tr>\n",
       "    <tr>\n",
       "      <th>3</th>\n",
       "      <td>1</td>\n",
       "      <td>89</td>\n",
       "      <td>66</td>\n",
       "      <td>23</td>\n",
       "      <td>94</td>\n",
       "      <td>28.1</td>\n",
       "      <td>0.167</td>\n",
       "      <td>21</td>\n",
       "      <td>0</td>\n",
       "    </tr>\n",
       "    <tr>\n",
       "      <th>4</th>\n",
       "      <td>0</td>\n",
       "      <td>137</td>\n",
       "      <td>40</td>\n",
       "      <td>35</td>\n",
       "      <td>168</td>\n",
       "      <td>43.1</td>\n",
       "      <td>2.288</td>\n",
       "      <td>33</td>\n",
       "      <td>1</td>\n",
       "    </tr>\n",
       "  </tbody>\n",
       "</table>\n",
       "</div>"
      ],
      "text/plain": [
       "   Pregnancies  Glucose  BloodPressure  SkinThickness  Insulin   BMI  \\\n",
       "0            6      148             72             35        0  33.6   \n",
       "1            1       85             66             29        0  26.6   \n",
       "2            8      183             64              0        0  23.3   \n",
       "3            1       89             66             23       94  28.1   \n",
       "4            0      137             40             35      168  43.1   \n",
       "\n",
       "   DiabetesPedigreeFunction  Age  Outcome  \n",
       "0                     0.627   50        1  \n",
       "1                     0.351   31        0  \n",
       "2                     0.672   32        1  \n",
       "3                     0.167   21        0  \n",
       "4                     2.288   33        1  "
      ]
     },
     "execution_count": 3,
     "metadata": {},
     "output_type": "execute_result"
    }
   ],
   "source": [
    "data.head()"
   ]
  },
  {
   "cell_type": "code",
   "execution_count": 4,
   "id": "7a6aa597-ebee-4a07-b9b1-e1b463d06b02",
   "metadata": {},
   "outputs": [
    {
     "data": {
      "text/plain": [
       "array([[  6.   , 148.   ,  72.   , ...,   0.627,  50.   ,   1.   ],\n",
       "       [  1.   ,  85.   ,  66.   , ...,   0.351,  31.   ,   0.   ],\n",
       "       [  8.   , 183.   ,  64.   , ...,   0.672,  32.   ,   1.   ],\n",
       "       ...,\n",
       "       [  5.   , 121.   ,  72.   , ...,   0.245,  30.   ,   0.   ],\n",
       "       [  1.   , 126.   ,  60.   , ...,   0.349,  47.   ,   1.   ],\n",
       "       [  1.   ,  93.   ,  70.   , ...,   0.315,  23.   ,   0.   ]])"
      ]
     },
     "execution_count": 4,
     "metadata": {},
     "output_type": "execute_result"
    }
   ],
   "source": [
    "array = data.to_numpy()\n",
    "array"
   ]
  },
  {
   "cell_type": "code",
   "execution_count": 5,
   "id": "acf723d7-0bc8-4f05-90fb-d94d5f1503f2",
   "metadata": {},
   "outputs": [],
   "source": [
    "target = array[:, -1].T\n",
    "train_target = target[0:614]\n",
    "test_target = target[614:]\n",
    "regressors = array[:, 0:8]\n",
    "weights = np.zeros(8)\n",
    "bias = 0."
   ]
  },
  {
   "cell_type": "code",
   "execution_count": 6,
   "id": "7896c250-97d5-499c-9fbf-6b5ff28ea3b9",
   "metadata": {},
   "outputs": [],
   "source": [
    "#split to train and test set\n",
    "train = regressors[0:614, :].T\n",
    "test = regressors[614:, :]"
   ]
  },
  {
   "cell_type": "code",
   "execution_count": 7,
   "id": "98d3b69f-0b45-41bd-b156-8e391d099716",
   "metadata": {},
   "outputs": [],
   "source": [
    "def gradient(train, target, weights, bias):\n",
    "    m = 614 # number of training examples\n",
    "    value = np.dot(weights.T, train) + bias\n",
    "    error_weight = (value - target)\n",
    "    error_bias = np.sum(error_weight)\n",
    "    real_error_weight = np.dot(error_weight.T, train.T)\n",
    "\n",
    "    error_bias /= m\n",
    "    real_error_weight /= m\n",
    "    return real_error_weight, error_bias"
   ]
  },
  {
   "cell_type": "code",
   "execution_count": 8,
   "id": "fc3c872e-2007-4bdf-9561-284b73fdba0b",
   "metadata": {},
   "outputs": [],
   "source": [
    "def batch_gradient_descent(train, target, weights, bias, iterations, alpha):\n",
    "    for i in range(iterations):\n",
    "        error_weight, error_bias = gradient(train, target, weights, bias)\n",
    "        weights = weights - error_weight*alpha\n",
    "        bias = bias - error_bias*alpha\n",
    "    return weights, bias"
   ]
  },
  {
   "cell_type": "code",
   "execution_count": 9,
   "id": "e4deca0e-4b67-4d90-bbfb-db131f2fab31",
   "metadata": {},
   "outputs": [],
   "source": [
    "w, b = batch_gradient_descent(train, train_target, weights, bias, 1000, 1.0e-7)"
   ]
  },
  {
   "cell_type": "code",
   "execution_count": 10,
   "id": "daef67d7-b722-416f-b21e-d5f9dc8fbad9",
   "metadata": {},
   "outputs": [],
   "source": [
    "#testing set values\n",
    "x = test[: , :]\n",
    "outputs = np.dot(w.T, x.T) + b"
   ]
  },
  {
   "cell_type": "code",
   "execution_count": 11,
   "id": "64bfcc06-3753-4407-9f50-48e082ded2c7",
   "metadata": {},
   "outputs": [
    {
     "name": "stdout",
     "output_type": "stream",
     "text": [
      "Total accurate predictions =  104\n",
      "Accuracy =  67.53246753246754\n"
     ]
    }
   ],
   "source": [
    "counts = 0\n",
    "for i in range(0, 154):\n",
    "    if(int(np.round(outputs[i])) == int(test_target[i])):\n",
    "        counts = counts + 1\n",
    "print(\"Total accurate predictions = \", counts)\n",
    "print(\"Accuracy = \", (counts/154)*100)"
   ]
  },
  {
   "cell_type": "code",
   "execution_count": 12,
   "id": "f1d0b1ad-0ee8-4ca7-993d-4525e4b62208",
   "metadata": {},
   "outputs": [
    {
     "name": "stdout",
     "output_type": "stream",
     "text": [
      "Total accurate predictions =  401\n",
      "Accuracy =  65.30944625407166\n"
     ]
    }
   ],
   "source": [
    "finals = np.dot(w.T, train) + b\n",
    "counts = 0\n",
    "for i in range(0, 614):\n",
    "    if(int(finals[i]) == int(train_target[i])):\n",
    "        counts = counts + 1\n",
    "print(\"Total accurate predictions = \", counts)\n",
    "print(\"Accuracy = \", (counts/614)*100)"
   ]
  }
 ],
 "metadata": {
  "kernelspec": {
   "display_name": "Python 3 (ipykernel)",
   "language": "python",
   "name": "python3"
  },
  "language_info": {
   "codemirror_mode": {
    "name": "ipython",
    "version": 3
   },
   "file_extension": ".py",
   "mimetype": "text/x-python",
   "name": "python",
   "nbconvert_exporter": "python",
   "pygments_lexer": "ipython3",
   "version": "3.8.19"
  }
 },
 "nbformat": 4,
 "nbformat_minor": 5
}
