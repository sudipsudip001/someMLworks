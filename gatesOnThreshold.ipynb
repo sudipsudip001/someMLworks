{
 "cells": [
  {
   "cell_type": "markdown",
   "id": "ba6c005d-f14e-4060-aab1-ab88319aa337",
   "metadata": {},
   "source": [
    "This is the implementation of 'AND' gate using threshold neuron"
   ]
  },
  {
   "cell_type": "code",
   "execution_count": null,
   "id": "fbcf05ea-19d9-4cde-a89d-748238146b1b",
   "metadata": {},
   "outputs": [],
   "source": [
    "import numpy as np\n",
    "\n",
    "def threshold(val1, val2):\n",
    "    bias = 1\n",
    "    result = val1*1 + val2*1\n",
    "    if(result > bias):\n",
    "        return '1'\n",
    "    else:\n",
    "        return '0'\n",
    "\n",
    "val1 = int(input('Enter the value of first connection.'))\n",
    "val2 = int(input('Enter the value of second connection.'))\n",
    "a = threshold(val1, val2)\n",
    "print(f'{val1} AND {val2} = {a}')"
   ]
  },
  {
   "cell_type": "markdown",
   "id": "887f80ca-7ba1-4731-b3fc-669c873d1a73",
   "metadata": {},
   "source": [
    "Below is an implementatin of 'OR' gate using threshold neuron"
   ]
  },
  {
   "cell_type": "code",
   "execution_count": null,
   "id": "018e94b0-97eb-4849-a3de-8bd88f55e3a8",
   "metadata": {},
   "outputs": [],
   "source": [
    "def threshold(val1, val2):\n",
    "    bias = 0.5\n",
    "    result = val1*1 + val2*1\n",
    "    if(result > bias):\n",
    "        return '1'\n",
    "    else:\n",
    "        return '0'\n",
    "\n",
    "val1 = int(input('Enter the value of first connection.'))\n",
    "val2 = int(input('Enter the value of second connection.'))\n",
    "a = threshold(val1, val2)\n",
    "print(f'{val1} OR {val2} = {a}')"
   ]
  },
  {
   "cell_type": "markdown",
   "id": "44621af3-2b11-428e-96fe-041df2e2033e",
   "metadata": {},
   "source": [
    "Implementation of 'NOT' gate is just a simple if condition"
   ]
  },
  {
   "cell_type": "code",
   "execution_count": null,
   "id": "0d397c8e-dbb7-40da-85be-fc5ce671c51f",
   "metadata": {},
   "outputs": [],
   "source": [
    "def NOT(val):\n",
    "    if val == 0:\n",
    "        return '1'\n",
    "    else:\n",
    "        return '0'\n",
    "\n",
    "a = int(input('Enter the value of connection'))\n",
    "result = NOT(a)\n",
    "print(f'NOT({a}) = {result}')"
   ]
  },
  {
   "cell_type": "markdown",
   "id": "a035bd77-5011-4e16-8ee8-5d67bf26794a",
   "metadata": {},
   "source": [
    "Implementation of 'XOR' gate"
   ]
  },
  {
   "cell_type": "code",
   "execution_count": null,
   "id": "52a2fb41-6616-46dd-b065-3f194ac29fc2",
   "metadata": {},
   "outputs": [],
   "source": [
    "def threshold(val1, val2):\n",
    "    bias1 = 0.5\n",
    "    bias2 = 2\n",
    "    result = val1*1 + val2*1\n",
    "    if result > bias1 and result < bias2:\n",
    "        return '1'\n",
    "    else:\n",
    "        return '0'\n",
    "\n",
    "val1 = int(input('Enter the value of first connection.'))\n",
    "val2 = int(input('Enter the value of second connection.'))\n",
    "a = threshold(val1, val2)\n",
    "print(f'{val1} XOR {val2} = {a}')"
   ]
  },
  {
   "cell_type": "markdown",
   "id": "1fd67360-8a60-49f3-acd8-f69ab4e4a6a7",
   "metadata": {},
   "source": [
    "Implementation of 'NAND' gate"
   ]
  },
  {
   "cell_type": "code",
   "execution_count": null,
   "id": "495bebb4-45ec-4613-8fe4-a6e37b8d6686",
   "metadata": {},
   "outputs": [],
   "source": [
    "import numpy as np\n",
    "\n",
    "def threshold(val1, val2):\n",
    "    bias = 1\n",
    "    result = val1*1 + val2*1\n",
    "    if(result > bias):\n",
    "        return '0'\n",
    "    else:\n",
    "        return '1'\n",
    "\n",
    "val1 = int(input('Enter the value of first connection.'))\n",
    "val2 = int(input('Enter the value of second connection.'))\n",
    "a = threshold(val1, val2)\n",
    "print(f'{val1} NAND {val2} = {a}')"
   ]
  },
  {
   "cell_type": "markdown",
   "id": "2101e714-161b-44cb-a1c8-51d2dbfa88a8",
   "metadata": {},
   "source": [
    "Implementation of 'NOR' gate (Reverse output of 'OR' gate)"
   ]
  },
  {
   "cell_type": "code",
   "execution_count": null,
   "id": "05e3412b-d2fe-4b08-9a72-a6bbec4a790a",
   "metadata": {},
   "outputs": [],
   "source": [
    "def threshold(val1, val2):\n",
    "    bias = 0.5\n",
    "    result = val1*1 + val2*1\n",
    "    if(result > bias):\n",
    "        return '0'\n",
    "    else:\n",
    "        return '1'\n",
    "\n",
    "val1 = int(input('Enter the value of first connection.'))\n",
    "val2 = int(input('Enter the value of second connection.'))\n",
    "a = threshold(val1, val2)\n",
    "print(f'{val1} NOR {val2} = {a}')"
   ]
  },
  {
   "cell_type": "markdown",
   "id": "7dc7ada0-924c-481a-9771-65b0a75cf612",
   "metadata": {},
   "source": [
    "Implementation of 'XNOR' gate (Reverse output of 'XOR' gate)"
   ]
  },
  {
   "cell_type": "code",
   "execution_count": null,
   "id": "97b2df08-b979-4055-a507-97c4cb16451c",
   "metadata": {},
   "outputs": [],
   "source": [
    "def threshold(val1, val2):\n",
    "    bias1 = 0.5\n",
    "    bias2 = 2\n",
    "    result = val1*1 + val2*1\n",
    "    if result > bias1 and result < bias2:\n",
    "        return '0'\n",
    "    else:\n",
    "        return '1'\n",
    "\n",
    "val1 = int(input('Enter the value of first connection.'))\n",
    "val2 = int(input('Enter the value of second connection.'))\n",
    "a = threshold(val1, val2)\n",
    "print(f'{val1} XOR {val2} = {a}')"
   ]
  }
 ],
 "metadata": {
  "kernelspec": {
   "display_name": "Python 3 (ipykernel)",
   "language": "python",
   "name": "python3"
  },
  "language_info": {
   "codemirror_mode": {
    "name": "ipython",
    "version": 3
   },
   "file_extension": ".py",
   "mimetype": "text/x-python",
   "name": "python",
   "nbconvert_exporter": "python",
   "pygments_lexer": "ipython3",
   "version": "3.8.19"
  }
 },
 "nbformat": 4,
 "nbformat_minor": 5
}
