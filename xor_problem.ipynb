{
 "cells": [
  {
   "cell_type": "markdown",
   "id": "2bbd1158-8c19-444b-aa40-3f81fa518d14",
   "metadata": {},
   "source": [
    "Cheers to backprop and XOR problem. The godfathers of algorithm in Neural Network realm and the class "
   ]
  },
  {
   "cell_type": "code",
   "execution_count": null,
   "id": "c425a511-1d46-4227-bb56-642fcc4dac08",
   "metadata": {},
   "outputs": [],
   "source": [
    "import numpy as np"
   ]
  },
  {
   "cell_type": "code",
   "execution_count": null,
   "id": "3a4442f6-52d6-488c-913c-df8b6586f5b7",
   "metadata": {},
   "outputs": [],
   "source": [
    "train = np.array([[0, 0], [0, 1], [1, 0], [1, 1]]).T\n",
    "label = np.array([[0, 1, 1, 0]])"
   ]
  },
  {
   "cell_type": "code",
   "execution_count": null,
   "id": "7b8afcaf-689f-4bdd-896d-6c6d89420dae",
   "metadata": {},
   "outputs": [],
   "source": [
    "def sigmoid(z):\n",
    "    return 1 / (1+ np.exp(-z))\n",
    "\n",
    "def sigmoid_deriv(z):\n",
    "    return z * (1 - z)\n",
    "\n",
    "def init():\n",
    "    w1 = np.random.rand(2, 2)\n",
    "    w2 = np.random.rand(2, 1)\n",
    "    return w1, w2\n",
    "\n",
    "def trainer(train, label, iteration):\n",
    "    w1, w2 = init()\n",
    "    for i in range(iteration):\n",
    "        z1 = np.dot(w1, train)\n",
    "        a1 = sigmoid(z1)\n",
    "        z2 = np.dot(w2.T, a1)\n",
    "        a2 = sigmoid(z2)\n",
    "        err = label - a2\n",
    "\n",
    "        #backpropagation\n",
    "        dz2 = err * sigmoid_deriv(a2)\n",
    "        dw2 = np.dot(a1, dz2.T)\n",
    "        dz1 = np.dot(w2, dz2) * sigmoid_deriv(a1)\n",
    "        dw1 = np.dot(train, dz1.T).T\n",
    "\n",
    "        #weights update\n",
    "        w1 += dw1\n",
    "        w2 += dw2\n",
    "    return w1, w2\n",
    "\n",
    "\n",
    "def forward(w1, w2, x): # this function is for testing purpose only\n",
    "    z1 = np.dot(w1, x)\n",
    "    a1 = sigmoid(z1)\n",
    "    z2 = np.dot(w2.T, a1)\n",
    "    a2 = sigmoid(z2)\n",
    "    return a2"
   ]
  },
  {
   "cell_type": "code",
   "execution_count": null,
   "id": "8b0d4700-eb63-4ff7-9f8c-5111a98ce496",
   "metadata": {},
   "outputs": [],
   "source": [
    "w1, w2 = trainer(train, label, 10000)\n",
    "values = np.array([[[0], [0]], [[0], [1]], [[1], [0]], [[1], [1]]])\n",
    "for i in range(values.shape[0]):\n",
    "    val = forward(w1, w2, values[i])\n",
    "    print(\"{} xor {} = {}\".format(values[i][0], values[i][1], int(np.round(val))))"
   ]
  }
 ],
 "metadata": {
  "kernelspec": {
   "display_name": "Python 3 (ipykernel)",
   "language": "python",
   "name": "python3"
  },
  "language_info": {
   "codemirror_mode": {
    "name": "ipython",
    "version": 3
   },
   "file_extension": ".py",
   "mimetype": "text/x-python",
   "name": "python",
   "nbconvert_exporter": "python",
   "pygments_lexer": "ipython3",
   "version": "3.8.19"
  }
 },
 "nbformat": 4,
 "nbformat_minor": 5
}
